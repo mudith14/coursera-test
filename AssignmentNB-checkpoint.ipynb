{
 "cells": [
  {
   "cell_type": "markdown",
   "metadata": {},
   "source": [
    "<h1><center>My Jupyter Notebook on IBM Watson Studio</center></h1>"
   ]
  },
  {
   "cell_type": "markdown",
   "metadata": {},
   "source": [
    "<b>Mudith</b>\n",
    "<br>\n",
    "Professional-1 (SSE)"
   ]
  },
  {
   "cell_type": "markdown",
   "metadata": {},
   "source": [
    "<i>I am interested in Data Science because, it is becoming the major business part of any field of operation. Data science has simplified several work porcess and marked its success in industry. In near future, Data science will mostly be the skill requirement any industry will be looking for. I want to keep myslef updated and be in the know</i>"
   ]
  },
  {
   "cell_type": "markdown",
   "metadata": {},
   "source": [
    "<h3>The below code will calculate the product of 5 and 2</h3>"
   ]
  },
  {
   "cell_type": "code",
   "execution_count": 1,
   "metadata": {},
   "outputs": [
    {
     "data": {
      "text/plain": [
       "10"
      ]
     },
     "execution_count": 1,
     "metadata": {},
     "output_type": "execute_result"
    }
   ],
   "source": [
    "5 * 2"
   ]
  },
  {
   "cell_type": "markdown",
   "metadata": {},
   "source": [
    "<i>Holizontal Line Sample</i><br>\n",
    "<br>\n",
    "Here 5 is multiplied with 2 which is two times 5 i.e equal to 10\n",
    "***\n",
    "Vice versa even if 2 is multiplied with 5 which is five times 2 i.e also equal to 10\n",
    "<br>\n",
    "<br>\n",
    "<br>\n",
    "<i>bulleted List Sample</i>\n",
    "* Here 5 is multiplier\n",
    "* Here 2 is multiplicand\n",
    "* Here 10 is product\n",
    "<br>\n",
    "<br>\n",
    "<del>Example of Strikrthrough</del>\n"
   ]
  },
  {
   "cell_type": "code",
   "execution_count": null,
   "metadata": {},
   "outputs": [],
   "source": []
  }
 ],
 "metadata": {
  "kernelspec": {
   "display_name": "Python 3 (ipykernel)",
   "language": "python",
   "name": "python3"
  },
  "language_info": {
   "codemirror_mode": {
    "name": "ipython",
    "version": 3
   },
   "file_extension": ".py",
   "mimetype": "text/x-python",
   "name": "python",
   "nbconvert_exporter": "python",
   "pygments_lexer": "ipython3",
   "version": "3.9.12"
  }
 },
 "nbformat": 4,
 "nbformat_minor": 1
}
